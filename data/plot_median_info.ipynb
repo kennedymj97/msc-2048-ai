{
 "cells": [
  {
   "cell_type": "code",
   "execution_count": 1,
   "metadata": {},
   "outputs": [],
   "source": [
    "import pandas as pd\n",
    "import matplotlib.pyplot as plt"
   ]
  },
  {
   "cell_type": "code",
   "execution_count": 2,
   "metadata": {},
   "outputs": [],
   "source": [
    "data = pd.read_csv(\"./brute_force_2try_4ban_100runs.csv\")"
   ]
  },
  {
   "cell_type": "code",
   "execution_count": 3,
   "metadata": {},
   "outputs": [
    {
     "data": {
      "text/html": [
       "<div>\n",
       "<style scoped>\n",
       "    .dataframe tbody tr th:only-of-type {\n",
       "        vertical-align: middle;\n",
       "    }\n",
       "\n",
       "    .dataframe tbody tr th {\n",
       "        vertical-align: top;\n",
       "    }\n",
       "\n",
       "    .dataframe thead th {\n",
       "        text-align: right;\n",
       "    }\n",
       "</style>\n",
       "<table border=\"1\" class=\"dataframe\">\n",
       "  <thead>\n",
       "    <tr style=\"text-align: right;\">\n",
       "      <th></th>\n",
       "      <th>Strategy</th>\n",
       "      <th>Run 1</th>\n",
       "      <th>Run 2</th>\n",
       "      <th>Run 3</th>\n",
       "      <th>Run 4</th>\n",
       "      <th>Run 5</th>\n",
       "      <th>Run 6</th>\n",
       "      <th>Run 7</th>\n",
       "      <th>Run 8</th>\n",
       "      <th>Run 9</th>\n",
       "      <th>...</th>\n",
       "      <th>Run 92</th>\n",
       "      <th>Run 93</th>\n",
       "      <th>Run 94</th>\n",
       "      <th>Run 95</th>\n",
       "      <th>Run 96</th>\n",
       "      <th>Run 97</th>\n",
       "      <th>Run 98</th>\n",
       "      <th>Run 99</th>\n",
       "      <th>Run 100</th>\n",
       "      <th>Run 101</th>\n",
       "    </tr>\n",
       "  </thead>\n",
       "  <tbody>\n",
       "    <tr>\n",
       "      <th>0</th>\n",
       "      <td>Ban Rules: \\tTry Rules: \\tFallback: Left-&gt;Righ...</td>\n",
       "      <td>1212</td>\n",
       "      <td>1120</td>\n",
       "      <td>372</td>\n",
       "      <td>128</td>\n",
       "      <td>236</td>\n",
       "      <td>292</td>\n",
       "      <td>1044</td>\n",
       "      <td>284</td>\n",
       "      <td>2152</td>\n",
       "      <td>...</td>\n",
       "      <td>1104</td>\n",
       "      <td>1216</td>\n",
       "      <td>236</td>\n",
       "      <td>3372</td>\n",
       "      <td>356</td>\n",
       "      <td>576</td>\n",
       "      <td>288</td>\n",
       "      <td>596</td>\n",
       "      <td>464</td>\n",
       "      <td>516</td>\n",
       "    </tr>\n",
       "  </tbody>\n",
       "</table>\n",
       "<p>1 rows × 102 columns</p>\n",
       "</div>"
      ],
      "text/plain": [
       "                                            Strategy  Run 1  Run 2  Run 3  \\\n",
       "0  Ban Rules: \\tTry Rules: \\tFallback: Left->Righ...   1212   1120    372   \n",
       "\n",
       "   Run 4  Run 5  Run 6  Run 7  Run 8  Run 9  ...  Run 92  Run 93  Run 94  \\\n",
       "0    128    236    292   1044    284   2152  ...    1104    1216     236   \n",
       "\n",
       "   Run 95  Run 96  Run 97  Run 98  Run 99  Run 100  Run 101  \n",
       "0    3372     356     576     288     596      464      516  \n",
       "\n",
       "[1 rows x 102 columns]"
      ]
     },
     "execution_count": 3,
     "metadata": {},
     "output_type": "execute_result"
    }
   ],
   "source": [
    "data.head(1)"
   ]
  },
  {
   "cell_type": "code",
   "execution_count": 4,
   "metadata": {},
   "outputs": [],
   "source": [
    "data['Median'] = data.median(axis=1, numeric_only=True)"
   ]
  },
  {
   "cell_type": "code",
   "execution_count": 5,
   "metadata": {},
   "outputs": [
    {
     "data": {
      "text/html": [
       "<div>\n",
       "<style scoped>\n",
       "    .dataframe tbody tr th:only-of-type {\n",
       "        vertical-align: middle;\n",
       "    }\n",
       "\n",
       "    .dataframe tbody tr th {\n",
       "        vertical-align: top;\n",
       "    }\n",
       "\n",
       "    .dataframe thead th {\n",
       "        text-align: right;\n",
       "    }\n",
       "</style>\n",
       "<table border=\"1\" class=\"dataframe\">\n",
       "  <thead>\n",
       "    <tr style=\"text-align: right;\">\n",
       "      <th></th>\n",
       "      <th>Strategy</th>\n",
       "      <th>Run 1</th>\n",
       "      <th>Run 2</th>\n",
       "      <th>Run 3</th>\n",
       "      <th>Run 4</th>\n",
       "      <th>Run 5</th>\n",
       "      <th>Run 6</th>\n",
       "      <th>Run 7</th>\n",
       "      <th>Run 8</th>\n",
       "      <th>Run 9</th>\n",
       "      <th>...</th>\n",
       "      <th>Run 93</th>\n",
       "      <th>Run 94</th>\n",
       "      <th>Run 95</th>\n",
       "      <th>Run 96</th>\n",
       "      <th>Run 97</th>\n",
       "      <th>Run 98</th>\n",
       "      <th>Run 99</th>\n",
       "      <th>Run 100</th>\n",
       "      <th>Run 101</th>\n",
       "      <th>Median</th>\n",
       "    </tr>\n",
       "  </thead>\n",
       "  <tbody>\n",
       "    <tr>\n",
       "      <th>0</th>\n",
       "      <td>Ban Rules: \\tTry Rules: \\tFallback: Left-&gt;Righ...</td>\n",
       "      <td>1212</td>\n",
       "      <td>1120</td>\n",
       "      <td>372</td>\n",
       "      <td>128</td>\n",
       "      <td>236</td>\n",
       "      <td>292</td>\n",
       "      <td>1044</td>\n",
       "      <td>284</td>\n",
       "      <td>2152</td>\n",
       "      <td>...</td>\n",
       "      <td>1216</td>\n",
       "      <td>236</td>\n",
       "      <td>3372</td>\n",
       "      <td>356</td>\n",
       "      <td>576</td>\n",
       "      <td>288</td>\n",
       "      <td>596</td>\n",
       "      <td>464</td>\n",
       "      <td>516</td>\n",
       "      <td>644.0</td>\n",
       "    </tr>\n",
       "  </tbody>\n",
       "</table>\n",
       "<p>1 rows × 103 columns</p>\n",
       "</div>"
      ],
      "text/plain": [
       "                                            Strategy  Run 1  Run 2  Run 3  \\\n",
       "0  Ban Rules: \\tTry Rules: \\tFallback: Left->Righ...   1212   1120    372   \n",
       "\n",
       "   Run 4  Run 5  Run 6  Run 7  Run 8  Run 9  ...  Run 93  Run 94  Run 95  \\\n",
       "0    128    236    292   1044    284   2152  ...    1216     236    3372   \n",
       "\n",
       "   Run 96  Run 97  Run 98  Run 99  Run 100  Run 101  Median  \n",
       "0     356     576     288     596      464      516   644.0  \n",
       "\n",
       "[1 rows x 103 columns]"
      ]
     },
     "execution_count": 5,
     "metadata": {},
     "output_type": "execute_result"
    }
   ],
   "source": [
    "data.head(1)"
   ]
  },
  {
   "cell_type": "code",
   "execution_count": 6,
   "metadata": {},
   "outputs": [],
   "source": [
    "data = data.sort_values(by=\"Median\", axis=0)\n",
    "data = data.reset_index(drop=True)"
   ]
  },
  {
   "cell_type": "code",
   "execution_count": 7,
   "metadata": {},
   "outputs": [
    {
     "data": {
      "text/html": [
       "<div>\n",
       "<style scoped>\n",
       "    .dataframe tbody tr th:only-of-type {\n",
       "        vertical-align: middle;\n",
       "    }\n",
       "\n",
       "    .dataframe tbody tr th {\n",
       "        vertical-align: top;\n",
       "    }\n",
       "\n",
       "    .dataframe thead th {\n",
       "        text-align: right;\n",
       "    }\n",
       "</style>\n",
       "<table border=\"1\" class=\"dataframe\">\n",
       "  <thead>\n",
       "    <tr style=\"text-align: right;\">\n",
       "      <th></th>\n",
       "      <th>Strategy</th>\n",
       "      <th>Run 1</th>\n",
       "      <th>Run 2</th>\n",
       "      <th>Run 3</th>\n",
       "      <th>Run 4</th>\n",
       "      <th>Run 5</th>\n",
       "      <th>Run 6</th>\n",
       "      <th>Run 7</th>\n",
       "      <th>Run 8</th>\n",
       "      <th>Run 9</th>\n",
       "      <th>...</th>\n",
       "      <th>Run 93</th>\n",
       "      <th>Run 94</th>\n",
       "      <th>Run 95</th>\n",
       "      <th>Run 96</th>\n",
       "      <th>Run 97</th>\n",
       "      <th>Run 98</th>\n",
       "      <th>Run 99</th>\n",
       "      <th>Run 100</th>\n",
       "      <th>Run 101</th>\n",
       "      <th>Median</th>\n",
       "    </tr>\n",
       "  </thead>\n",
       "  <tbody>\n",
       "    <tr>\n",
       "      <th>795476</th>\n",
       "      <td>Ban Rules: ban move Left if left column locked...</td>\n",
       "      <td>11100</td>\n",
       "      <td>9228</td>\n",
       "      <td>5960</td>\n",
       "      <td>14620</td>\n",
       "      <td>14916</td>\n",
       "      <td>12820</td>\n",
       "      <td>6932</td>\n",
       "      <td>7728</td>\n",
       "      <td>15388</td>\n",
       "      <td>...</td>\n",
       "      <td>13208</td>\n",
       "      <td>7244</td>\n",
       "      <td>14812</td>\n",
       "      <td>16148</td>\n",
       "      <td>16732</td>\n",
       "      <td>9052</td>\n",
       "      <td>15752</td>\n",
       "      <td>4696</td>\n",
       "      <td>11464</td>\n",
       "      <td>10760.0</td>\n",
       "    </tr>\n",
       "    <tr>\n",
       "      <th>795477</th>\n",
       "      <td>Ban Rules: ban move Left if breaks monotonicit...</td>\n",
       "      <td>8524</td>\n",
       "      <td>15768</td>\n",
       "      <td>12652</td>\n",
       "      <td>1904</td>\n",
       "      <td>15672</td>\n",
       "      <td>2808</td>\n",
       "      <td>10876</td>\n",
       "      <td>8180</td>\n",
       "      <td>11888</td>\n",
       "      <td>...</td>\n",
       "      <td>11336</td>\n",
       "      <td>12860</td>\n",
       "      <td>26084</td>\n",
       "      <td>7688</td>\n",
       "      <td>17032</td>\n",
       "      <td>9160</td>\n",
       "      <td>15236</td>\n",
       "      <td>14040</td>\n",
       "      <td>8476</td>\n",
       "      <td>10876.0</td>\n",
       "    </tr>\n",
       "    <tr>\n",
       "      <th>795478</th>\n",
       "      <td>Ban Rules: ban move Left if left column locked...</td>\n",
       "      <td>8776</td>\n",
       "      <td>11100</td>\n",
       "      <td>16900</td>\n",
       "      <td>11096</td>\n",
       "      <td>8612</td>\n",
       "      <td>11288</td>\n",
       "      <td>2504</td>\n",
       "      <td>15820</td>\n",
       "      <td>18204</td>\n",
       "      <td>...</td>\n",
       "      <td>7452</td>\n",
       "      <td>9468</td>\n",
       "      <td>6764</td>\n",
       "      <td>14316</td>\n",
       "      <td>16896</td>\n",
       "      <td>16052</td>\n",
       "      <td>5072</td>\n",
       "      <td>12428</td>\n",
       "      <td>7532</td>\n",
       "      <td>11288.0</td>\n",
       "    </tr>\n",
       "    <tr>\n",
       "      <th>795479</th>\n",
       "      <td>Ban Rules: ban move Left if left column locked...</td>\n",
       "      <td>8408</td>\n",
       "      <td>16856</td>\n",
       "      <td>13564</td>\n",
       "      <td>16296</td>\n",
       "      <td>9940</td>\n",
       "      <td>8324</td>\n",
       "      <td>6064</td>\n",
       "      <td>16456</td>\n",
       "      <td>14024</td>\n",
       "      <td>...</td>\n",
       "      <td>11464</td>\n",
       "      <td>9868</td>\n",
       "      <td>15144</td>\n",
       "      <td>8760</td>\n",
       "      <td>7520</td>\n",
       "      <td>6992</td>\n",
       "      <td>7172</td>\n",
       "      <td>17396</td>\n",
       "      <td>16664</td>\n",
       "      <td>11464.0</td>\n",
       "    </tr>\n",
       "  </tbody>\n",
       "</table>\n",
       "<p>4 rows × 103 columns</p>\n",
       "</div>"
      ],
      "text/plain": [
       "                                                 Strategy  Run 1  Run 2  \\\n",
       "795476  Ban Rules: ban move Left if left column locked...  11100   9228   \n",
       "795477  Ban Rules: ban move Left if breaks monotonicit...   8524  15768   \n",
       "795478  Ban Rules: ban move Left if left column locked...   8776  11100   \n",
       "795479  Ban Rules: ban move Left if left column locked...   8408  16856   \n",
       "\n",
       "        Run 3  Run 4  Run 5  Run 6  Run 7  Run 8  Run 9  ...  Run 93  Run 94  \\\n",
       "795476   5960  14620  14916  12820   6932   7728  15388  ...   13208    7244   \n",
       "795477  12652   1904  15672   2808  10876   8180  11888  ...   11336   12860   \n",
       "795478  16900  11096   8612  11288   2504  15820  18204  ...    7452    9468   \n",
       "795479  13564  16296   9940   8324   6064  16456  14024  ...   11464    9868   \n",
       "\n",
       "        Run 95  Run 96  Run 97  Run 98  Run 99  Run 100  Run 101   Median  \n",
       "795476   14812   16148   16732    9052   15752     4696    11464  10760.0  \n",
       "795477   26084    7688   17032    9160   15236    14040     8476  10876.0  \n",
       "795478    6764   14316   16896   16052    5072    12428     7532  11288.0  \n",
       "795479   15144    8760    7520    6992    7172    17396    16664  11464.0  \n",
       "\n",
       "[4 rows x 103 columns]"
      ]
     },
     "execution_count": 7,
     "metadata": {},
     "output_type": "execute_result"
    }
   ],
   "source": [
    "data.tail(4)"
   ]
  },
  {
   "cell_type": "code",
   "execution_count": 8,
   "metadata": {},
   "outputs": [
    {
     "data": {
      "image/png": "[encoded data removed]",
      "text/plain": [
       "<Figure size 1440x720 with 1 Axes>"
      ]
     },
     "metadata": {
      "needs_background": "light"
     },
     "output_type": "display_data"
    }
   ],
   "source": [
    "# start at highest medians\n",
    "# x axis logarithmic (start indexing at 1)\n",
    "data.plot(y=\"Median\", figsize=(20,10))\n",
    "plt.show()"
   ]
  },
  {
   "cell_type": "code",
   "execution_count": 9,
   "metadata": {},
   "outputs": [
    {
     "data": {
      "image/png": "[encoded data removed]",
      "text/plain": [
       "<Figure size 1440x720 with 1 Axes>"
      ]
     },
     "metadata": {
      "needs_background": "light"
     },
     "output_type": "display_data"
    }
   ],
   "source": [
    "data['Median'].plot.hist(figsize=(20, 10), bins=500)\n",
    "plt.show()"
   ]
  },
  {
   "cell_type": "code",
   "execution_count": null,
   "metadata": {},
   "outputs": [],
   "source": []
  }
 ],
 "metadata": {
  "kernelspec": {
   "display_name": "Python 3",
   "language": "python",
   "name": "python3"
  },
  "language_info": {
   "codemirror_mode": {
    "name": "ipython",
    "version": 3
   },
   "file_extension": ".py",
   "mimetype": "text/x-python",
   "name": "python",
   "nbconvert_exporter": "python",
   "pygments_lexer": "ipython3",
   "version": "3.7.7"
  }
 },
 "nbformat": 4,
 "nbformat_minor": 4
}
