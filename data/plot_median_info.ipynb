{
 "cells": [
  {
   "cell_type": "code",
   "execution_count": 10,
   "metadata": {},
   "outputs": [],
   "source": [
    "import pandas as pd\n",
    "import matplotlib.pyplot as plt"
   ]
  },
  {
   "cell_type": "code",
   "execution_count": 11,
   "metadata": {},
   "outputs": [],
   "source": [
    "data = pd.read_csv(\"./brute_force_2try_4ban_100runs.csv\")"
   ]
  },
  {
   "cell_type": "code",
   "execution_count": 12,
   "metadata": {},
   "outputs": [
    {
     "data": {
      "text/html": [
       "<div>\n",
       "<style scoped>\n",
       "    .dataframe tbody tr th:only-of-type {\n",
       "        vertical-align: middle;\n",
       "    }\n",
       "\n",
       "    .dataframe tbody tr th {\n",
       "        vertical-align: top;\n",
       "    }\n",
       "\n",
       "    .dataframe thead th {\n",
       "        text-align: right;\n",
       "    }\n",
       "</style>\n",
       "<table border=\"1\" class=\"dataframe\">\n",
       "  <thead>\n",
       "    <tr style=\"text-align: right;\">\n",
       "      <th></th>\n",
       "      <th>Strategy</th>\n",
       "      <th>Run 1</th>\n",
       "      <th>Run 2</th>\n",
       "      <th>Run 3</th>\n",
       "      <th>Run 4</th>\n",
       "      <th>Run 5</th>\n",
       "      <th>Run 6</th>\n",
       "      <th>Run 7</th>\n",
       "      <th>Run 8</th>\n",
       "      <th>Run 9</th>\n",
       "      <th>...</th>\n",
       "      <th>Run 92</th>\n",
       "      <th>Run 93</th>\n",
       "      <th>Run 94</th>\n",
       "      <th>Run 95</th>\n",
       "      <th>Run 96</th>\n",
       "      <th>Run 97</th>\n",
       "      <th>Run 98</th>\n",
       "      <th>Run 99</th>\n",
       "      <th>Run 100</th>\n",
       "      <th>Run 101</th>\n",
       "    </tr>\n",
       "  </thead>\n",
       "  <tbody>\n",
       "    <tr>\n",
       "      <th>0</th>\n",
       "      <td>Ban Rules: \\tTry Rules: \\tFallback: Left-&gt;Righ...</td>\n",
       "      <td>1212</td>\n",
       "      <td>1120</td>\n",
       "      <td>372</td>\n",
       "      <td>128</td>\n",
       "      <td>236</td>\n",
       "      <td>292</td>\n",
       "      <td>1044</td>\n",
       "      <td>284</td>\n",
       "      <td>2152</td>\n",
       "      <td>...</td>\n",
       "      <td>1104</td>\n",
       "      <td>1216</td>\n",
       "      <td>236</td>\n",
       "      <td>3372</td>\n",
       "      <td>356</td>\n",
       "      <td>576</td>\n",
       "      <td>288</td>\n",
       "      <td>596</td>\n",
       "      <td>464</td>\n",
       "      <td>516</td>\n",
       "    </tr>\n",
       "  </tbody>\n",
       "</table>\n",
       "<p>1 rows × 102 columns</p>\n",
       "</div>"
      ],
      "text/plain": [
       "                                            Strategy  Run 1  Run 2  Run 3  \\\n",
       "0  Ban Rules: \\tTry Rules: \\tFallback: Left->Righ...   1212   1120    372   \n",
       "\n",
       "   Run 4  Run 5  Run 6  Run 7  Run 8  Run 9  ...  Run 92  Run 93  Run 94  \\\n",
       "0    128    236    292   1044    284   2152  ...    1104    1216     236   \n",
       "\n",
       "   Run 95  Run 96  Run 97  Run 98  Run 99  Run 100  Run 101  \n",
       "0    3372     356     576     288     596      464      516  \n",
       "\n",
       "[1 rows x 102 columns]"
      ]
     },
     "execution_count": 12,
     "metadata": {},
     "output_type": "execute_result"
    }
   ],
   "source": [
    "data.head(1)"
   ]
  },
  {
   "cell_type": "code",
   "execution_count": 13,
   "metadata": {},
   "outputs": [],
   "source": [
    "data['Median'] = data.median(axis=1, numeric_only=True)"
   ]
  },
  {
   "cell_type": "code",
   "execution_count": 14,
   "metadata": {},
   "outputs": [
    {
     "data": {
      "text/html": [
       "<div>\n",
       "<style scoped>\n",
       "    .dataframe tbody tr th:only-of-type {\n",
       "        vertical-align: middle;\n",
       "    }\n",
       "\n",
       "    .dataframe tbody tr th {\n",
       "        vertical-align: top;\n",
       "    }\n",
       "\n",
       "    .dataframe thead th {\n",
       "        text-align: right;\n",
       "    }\n",
       "</style>\n",
       "<table border=\"1\" class=\"dataframe\">\n",
       "  <thead>\n",
       "    <tr style=\"text-align: right;\">\n",
       "      <th></th>\n",
       "      <th>Strategy</th>\n",
       "      <th>Run 1</th>\n",
       "      <th>Run 2</th>\n",
       "      <th>Run 3</th>\n",
       "      <th>Run 4</th>\n",
       "      <th>Run 5</th>\n",
       "      <th>Run 6</th>\n",
       "      <th>Run 7</th>\n",
       "      <th>Run 8</th>\n",
       "      <th>Run 9</th>\n",
       "      <th>...</th>\n",
       "      <th>Run 93</th>\n",
       "      <th>Run 94</th>\n",
       "      <th>Run 95</th>\n",
       "      <th>Run 96</th>\n",
       "      <th>Run 97</th>\n",
       "      <th>Run 98</th>\n",
       "      <th>Run 99</th>\n",
       "      <th>Run 100</th>\n",
       "      <th>Run 101</th>\n",
       "      <th>Median</th>\n",
       "    </tr>\n",
       "  </thead>\n",
       "  <tbody>\n",
       "    <tr>\n",
       "      <th>0</th>\n",
       "      <td>Ban Rules: \\tTry Rules: \\tFallback: Left-&gt;Righ...</td>\n",
       "      <td>1212</td>\n",
       "      <td>1120</td>\n",
       "      <td>372</td>\n",
       "      <td>128</td>\n",
       "      <td>236</td>\n",
       "      <td>292</td>\n",
       "      <td>1044</td>\n",
       "      <td>284</td>\n",
       "      <td>2152</td>\n",
       "      <td>...</td>\n",
       "      <td>1216</td>\n",
       "      <td>236</td>\n",
       "      <td>3372</td>\n",
       "      <td>356</td>\n",
       "      <td>576</td>\n",
       "      <td>288</td>\n",
       "      <td>596</td>\n",
       "      <td>464</td>\n",
       "      <td>516</td>\n",
       "      <td>644.0</td>\n",
       "    </tr>\n",
       "  </tbody>\n",
       "</table>\n",
       "<p>1 rows × 103 columns</p>\n",
       "</div>"
      ],
      "text/plain": [
       "                                            Strategy  Run 1  Run 2  Run 3  \\\n",
       "0  Ban Rules: \\tTry Rules: \\tFallback: Left->Righ...   1212   1120    372   \n",
       "\n",
       "   Run 4  Run 5  Run 6  Run 7  Run 8  Run 9  ...  Run 93  Run 94  Run 95  \\\n",
       "0    128    236    292   1044    284   2152  ...    1216     236    3372   \n",
       "\n",
       "   Run 96  Run 97  Run 98  Run 99  Run 100  Run 101  Median  \n",
       "0     356     576     288     596      464      516   644.0  \n",
       "\n",
       "[1 rows x 103 columns]"
      ]
     },
     "execution_count": 14,
     "metadata": {},
     "output_type": "execute_result"
    }
   ],
   "source": [
    "data.head(1)"
   ]
  },
  {
   "cell_type": "code",
   "execution_count": 15,
   "metadata": {},
   "outputs": [],
   "source": [
    "data = data.sort_values(by=\"Median\", axis=0, ascending=False)\n",
    "data = data.reset_index(drop=True)"
   ]
  },
  {
   "cell_type": "code",
   "execution_count": 16,
   "metadata": {},
   "outputs": [
    {
     "data": {
      "text/html": [
       "<div>\n",
       "<style scoped>\n",
       "    .dataframe tbody tr th:only-of-type {\n",
       "        vertical-align: middle;\n",
       "    }\n",
       "\n",
       "    .dataframe tbody tr th {\n",
       "        vertical-align: top;\n",
       "    }\n",
       "\n",
       "    .dataframe thead th {\n",
       "        text-align: right;\n",
       "    }\n",
       "</style>\n",
       "<table border=\"1\" class=\"dataframe\">\n",
       "  <thead>\n",
       "    <tr style=\"text-align: right;\">\n",
       "      <th></th>\n",
       "      <th>Strategy</th>\n",
       "      <th>Run 1</th>\n",
       "      <th>Run 2</th>\n",
       "      <th>Run 3</th>\n",
       "      <th>Run 4</th>\n",
       "      <th>Run 5</th>\n",
       "      <th>Run 6</th>\n",
       "      <th>Run 7</th>\n",
       "      <th>Run 8</th>\n",
       "      <th>Run 9</th>\n",
       "      <th>...</th>\n",
       "      <th>Run 93</th>\n",
       "      <th>Run 94</th>\n",
       "      <th>Run 95</th>\n",
       "      <th>Run 96</th>\n",
       "      <th>Run 97</th>\n",
       "      <th>Run 98</th>\n",
       "      <th>Run 99</th>\n",
       "      <th>Run 100</th>\n",
       "      <th>Run 101</th>\n",
       "      <th>Median</th>\n",
       "    </tr>\n",
       "  </thead>\n",
       "  <tbody>\n",
       "    <tr>\n",
       "      <th>795476</th>\n",
       "      <td>Ban Rules: ban move Up if breaks monotonicity ...</td>\n",
       "      <td>1096</td>\n",
       "      <td>168</td>\n",
       "      <td>540</td>\n",
       "      <td>356</td>\n",
       "      <td>1300</td>\n",
       "      <td>768</td>\n",
       "      <td>516</td>\n",
       "      <td>628</td>\n",
       "      <td>816</td>\n",
       "      <td>...</td>\n",
       "      <td>260</td>\n",
       "      <td>412</td>\n",
       "      <td>272</td>\n",
       "      <td>800</td>\n",
       "      <td>692</td>\n",
       "      <td>476</td>\n",
       "      <td>176</td>\n",
       "      <td>124</td>\n",
       "      <td>748</td>\n",
       "      <td>540.0</td>\n",
       "    </tr>\n",
       "    <tr>\n",
       "      <th>795477</th>\n",
       "      <td>Ban Rules: ban move Left if left column locked...</td>\n",
       "      <td>400</td>\n",
       "      <td>200</td>\n",
       "      <td>772</td>\n",
       "      <td>592</td>\n",
       "      <td>232</td>\n",
       "      <td>528</td>\n",
       "      <td>508</td>\n",
       "      <td>624</td>\n",
       "      <td>1196</td>\n",
       "      <td>...</td>\n",
       "      <td>496</td>\n",
       "      <td>1164</td>\n",
       "      <td>336</td>\n",
       "      <td>260</td>\n",
       "      <td>740</td>\n",
       "      <td>652</td>\n",
       "      <td>632</td>\n",
       "      <td>1176</td>\n",
       "      <td>668</td>\n",
       "      <td>532.0</td>\n",
       "    </tr>\n",
       "    <tr>\n",
       "      <th>795478</th>\n",
       "      <td>Ban Rules: ban move Left if left column locked...</td>\n",
       "      <td>372</td>\n",
       "      <td>672</td>\n",
       "      <td>864</td>\n",
       "      <td>344</td>\n",
       "      <td>320</td>\n",
       "      <td>828</td>\n",
       "      <td>784</td>\n",
       "      <td>488</td>\n",
       "      <td>1456</td>\n",
       "      <td>...</td>\n",
       "      <td>212</td>\n",
       "      <td>484</td>\n",
       "      <td>240</td>\n",
       "      <td>400</td>\n",
       "      <td>1044</td>\n",
       "      <td>512</td>\n",
       "      <td>348</td>\n",
       "      <td>272</td>\n",
       "      <td>752</td>\n",
       "      <td>524.0</td>\n",
       "    </tr>\n",
       "    <tr>\n",
       "      <th>795479</th>\n",
       "      <td>Ban Rules: ban move Left if left column locked...</td>\n",
       "      <td>748</td>\n",
       "      <td>236</td>\n",
       "      <td>460</td>\n",
       "      <td>400</td>\n",
       "      <td>224</td>\n",
       "      <td>316</td>\n",
       "      <td>772</td>\n",
       "      <td>456</td>\n",
       "      <td>476</td>\n",
       "      <td>...</td>\n",
       "      <td>976</td>\n",
       "      <td>500</td>\n",
       "      <td>152</td>\n",
       "      <td>1028</td>\n",
       "      <td>1516</td>\n",
       "      <td>504</td>\n",
       "      <td>196</td>\n",
       "      <td>356</td>\n",
       "      <td>588</td>\n",
       "      <td>512.0</td>\n",
       "    </tr>\n",
       "  </tbody>\n",
       "</table>\n",
       "<p>4 rows × 103 columns</p>\n",
       "</div>"
      ],
      "text/plain": [
       "                                                 Strategy  Run 1  Run 2  \\\n",
       "795476  Ban Rules: ban move Up if breaks monotonicity ...   1096    168   \n",
       "795477  Ban Rules: ban move Left if left column locked...    400    200   \n",
       "795478  Ban Rules: ban move Left if left column locked...    372    672   \n",
       "795479  Ban Rules: ban move Left if left column locked...    748    236   \n",
       "\n",
       "        Run 3  Run 4  Run 5  Run 6  Run 7  Run 8  Run 9  ...  Run 93  Run 94  \\\n",
       "795476    540    356   1300    768    516    628    816  ...     260     412   \n",
       "795477    772    592    232    528    508    624   1196  ...     496    1164   \n",
       "795478    864    344    320    828    784    488   1456  ...     212     484   \n",
       "795479    460    400    224    316    772    456    476  ...     976     500   \n",
       "\n",
       "        Run 95  Run 96  Run 97  Run 98  Run 99  Run 100  Run 101  Median  \n",
       "795476     272     800     692     476     176      124      748   540.0  \n",
       "795477     336     260     740     652     632     1176      668   532.0  \n",
       "795478     240     400    1044     512     348      272      752   524.0  \n",
       "795479     152    1028    1516     504     196      356      588   512.0  \n",
       "\n",
       "[4 rows x 103 columns]"
      ]
     },
     "execution_count": 16,
     "metadata": {},
     "output_type": "execute_result"
    }
   ],
   "source": [
    "data.tail(4)"
   ]
  },
  {
   "cell_type": "code",
   "execution_count": 19,
   "metadata": {},
   "outputs": [
    {
     "data": {
      "image/png": "[encoded data removed]",
      "text/plain": [
       "<Figure size 1440x720 with 1 Axes>"
      ]
     },
     "metadata": {
      "needs_background": "light"
     },
     "output_type": "display_data"
    }
   ],
   "source": [
    "# start at highest medians\n",
    "# x axis logarithmic (start indexing at 1)\n",
    "data.plot(y=\"Median\", figsize=(20,10), logx=True)\n",
    "plt.show()"
   ]
  },
  {
   "cell_type": "code",
   "execution_count": 18,
   "metadata": {},
   "outputs": [
    {
     "data": {
      "image/png": "[encoded data removed]",
      "text/plain": [
       "<Figure size 1440x720 with 1 Axes>"
      ]
     },
     "metadata": {
      "needs_background": "light"
     },
     "output_type": "display_data"
    }
   ],
   "source": [
    "data['Median'].plot.hist(figsize=(20, 10), bins=500)\n",
    "plt.show()"
   ]
  },
  {
   "cell_type": "code",
   "execution_count": null,
   "metadata": {},
   "outputs": [],
   "source": []
  }
 ],
 "metadata": {
  "kernelspec": {
   "display_name": "Python 3",
   "language": "python",
   "name": "python3"
  },
  "language_info": {
   "codemirror_mode": {
    "name": "ipython",
    "version": 3
   },
   "file_extension": ".py",
   "mimetype": "text/x-python",
   "name": "python",
   "nbconvert_exporter": "python",
   "pygments_lexer": "ipython3",
   "version": "3.7.7"
  }
 },
 "nbformat": 4,
 "nbformat_minor": 4
}
